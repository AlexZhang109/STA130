{
 "cells": [
  {
   "cell_type": "markdown",
   "id": "46da6484",
   "metadata": {},
   "source": [
    "1. The \"Pre-lecture\" video (above) mentioned the \"standard error of the mean\" as being the \"standard deviation\" of the distribution bootstrapped means. What is the difference between the \"standard error of the mean\" and the \"standard deviation\" of the original data? What distinct ideas do each of these capture? Explain this concisely in your own words."
   ]
  },
  {
   "cell_type": "markdown",
   "id": "6c525d32",
   "metadata": {},
   "source": [
    "The Standard Deviation measures the spread of data in a dataset. It gives an idea of how much the values in the data spread from the mean of that dataset. The Standard error of the mean is the standard deviation of the sample mean in the sample distribution. It measures how the sample mean spread from sample to sample, where samples are drew from the original data(population). So, standard deviation is how the data is spreading from the sample mean, whereas standard error of the mean is how the sample means is varing from the true population means when a lot of samples are sampled."
   ]
  },
  {
   "cell_type": "markdown",
   "id": "7208c622",
   "metadata": {},
   "source": [
    "2. The \"Pre-lecture\" video (above) suggested that the \"standard error of the mean\" could be used to create a confidence interval, but didn't describe exactly how to do this. How can we use the \"standard error of the mean\" to create a 95% confidence interval which \"covers 95% of the bootstrapped sample means\"? Explain this concisely in your own words."
   ]
  },
  {
   "cell_type": "markdown",
   "id": "855e9606",
   "metadata": {},
   "source": [
    "First, we need to calculate a confidence interval using the formula and standard error of the mean. Then, the interval we get means that if you took many bootstrap samples and calculated their means, about 95% of those sample means would be in this range and this means they are likely to contain the true population mean."
   ]
  },
  {
   "cell_type": "markdown",
   "id": "96f8906e",
   "metadata": {},
   "source": [
    "3. Creating the \"sample mean plus and minus about 2 times the standard error\" confidence interval addressed in the previous problem should indeed cover approximately 95% of the bootstrapped sample means. Alternatively, how do we create a 95% bootstrapped confidence interval using the bootstrapped means (without using their standard deviation to estimate the standard error of the mean)? Explain this concisely in your own words."
   ]
  },
  {
   "cell_type": "markdown",
   "id": "c72b8f31",
   "metadata": {},
   "source": [
    "First, we need to repeat the bootstrapped samples a lot of times to get those sample means. Then we have to sort the means and use the method np.quantile() to find the 2.5th and 97.5th percentiles. The resulting confidence interval will contain the middle 95% of the bootstrapped means."
   ]
  },
  {
   "cell_type": "markdown",
   "id": "ad1955d8",
   "metadata": {},
   "source": [
    "4. The \"Pre-lecture\" video (above) mentioned that bootstrap confidence intervals could apply to other statistics of the sample, such as the \"median\". Work with a ChatBot to create code to produce a 95% bootstrap confidence interval for a population mean based on a sample that you have and comment the code to demonstrate how the code can be changed to produce a 95% bootstrap confidence interval for different population parameter (other than the population mean, such as the population median)."
   ]
  },
  {
   "cell_type": "code",
   "execution_count": 2,
   "id": "9f0dc583",
   "metadata": {},
   "outputs": [
    {
     "name": "stdout",
     "output_type": "stream",
     "text": [
      "95% Bootstrap Confidence Interval for the Mean: [9.0, 14.4]\n"
     ]
    }
   ],
   "source": [
    "import numpy as np\n",
    "\n",
    "# Create a sample \n",
    "sample = np.array([5, 7, 8, 9, 10, 12, 15, 16, 17, 18])\n",
    "\n",
    "# Number of bootstrap samples to generate\n",
    "n_bootstraps = 1000\n",
    "\n",
    "# Set seed for reproducibility\n",
    "np.random.seed(42)\n",
    "\n",
    "# Store bootstrapped means\n",
    "bootstrapped_means = []\n",
    "\n",
    "# Bootstrap resampling\n",
    "for _ in range(n_bootstraps):\n",
    "    # Resample from the original sample with replacement\n",
    "    bootstrap_sample = np.random.choice(sample, size=len(sample), replace=True)\n",
    "    \n",
    "    # Calculate the statistic of interest (mean in this case)\n",
    "    bootstrapped_means.append(np.mean(bootstrap_sample))\n",
    "\n",
    "# Sort the bootstrapped means\n",
    "bootstrapped_means = np.sort(bootstrapped_means)\n",
    "\n",
    "# Calculate the 2.5th percentile and 97.5th percentile for 95% confidence interval\n",
    "lower_bound = np.percentile(bootstrapped_means, 2.5)\n",
    "upper_bound = np.percentile(bootstrapped_means, 97.5)\n",
    "\n",
    "# Output the confidence interval\n",
    "print(f\"95% Bootstrap Confidence Interval for the Mean: [{lower_bound}, {upper_bound}]\")\n",
    "\n",
    "# To modify the code to calculate a confidence interval for another parameter, like the median, Instead of appending \n",
    "# np.mean(bootstrap_sample) to 'bootstrapped_means', you can append np.median(bootstrap_sample) to get the bootstrapped medians.\n",
    "# the confidence interval will now reflect the population median.\n"
   ]
  },
  {
   "cell_type": "markdown",
   "id": "321bb5a4",
   "metadata": {},
   "source": [
    "ChatBot history for Question 1-4:\n",
    "Standard Error of the Mean vs. Standard Deviation: We explored the differences between standard deviation, which measures the variability of individual data points, and the standard error of the mean (SEM), which estimates the precision of the sample mean in relation to the population mean.\n",
    "Creating a 95% Confidence Interval using SEM: We explained how to use the SEM to construct a 95% confidence interval around the sample mean, emphasizing the relationship between sample means and population means.\n",
    "Bootstrapped Confidence Interval for Population Mean: We described how to create a 95% confidence interval using bootstrapped sample means, detailing the steps to resample data, calculate means, and determine percentile bounds.\n",
    "Python Code Example: Finally, I provided a Python code snippet that generates a 95% bootstrapped confidence interval for a population mean based on a made-up sample. The code included comments on how to modify it for different population parameters (such as median) and confidence levels (like 90%).\n",
    "Link:https://chatgpt.com/share/66fdbc31-4ccc-8004-8a9d-28f85270c3e0"
   ]
  },
  {
   "cell_type": "markdown",
   "id": "feb4f296",
   "metadata": {},
   "source": [
    "5. The previous question addresses making a confidence interval for a population parameter based on a sample statistic. Why do we need to distinguish between the role of the popualation parameter and the sample sample statistic when it comes to confidence intervals? Explain this concisely in your own words."
   ]
  },
  {
   "cell_type": "markdown",
   "id": "264dd928",
   "metadata": {},
   "source": [
    "population parameter is the key characteristics of the population, and it's a fixed value. It is usually unknown and is what we are trying to estimate. Sample Statistic are statistics calculated by the samples from the population, it's an estimate of the population parameter. When it comes to confidence intervals, it is a range of values that likely contain the population parameter based on the sample statistic calculated. So we can only use sample statistics to calculate confidence intervals of the data. And confidence intervals gives us the idea of how many samples/intervals that could lie on the true population parameters. "
   ]
  },
  {
   "cell_type": "markdown",
   "id": "c8827465",
   "metadata": {},
   "source": [
    "Chat history for Question 5: We discussed the importance of distinguishing between the population parameter and the sample statistic in the context of confidence intervals. The population parameter is a fixed, usually unknown value that describes the entire population, while the sample statistic is a calculated value from a sample. This distinction is crucial because confidence intervals estimate the likely range of the population parameter based on the sample statistic, accounting for variability and uncertainty. Understanding this difference helps researchers make informed decisions and accurately interpret their results.\n",
    "Link:https://chatgpt.com/share/66fdc065-d538-8004-8f16-fecf8d4fe7ed"
   ]
  },
  {
   "cell_type": "markdown",
   "id": "1615b4b6",
   "metadata": {},
   "source": [
    "6. Provide written answers explaining the answers to the following questions in an informal manner of a conversation with a friend with little experience with statistics.\n",
    "\n",
    "What is the process of bootstrapping?\n",
    "the process of bootstrapping is repeatedly sampling from the original data or poupulation, with replacement and each time the sample is randomly and independtly selected.\n",
    "\n",
    "What is the main purpose of bootstrapping?\n",
    "By bootstrapping a lot of random samples from the population, we can have a sample distribution where all the samples are distributed. Then we can have a confidence interval for the estimate of population parameters.\n",
    "\n",
    "If you had a (hypothesized) guess about what the average of a population was, and you had a sample of size n from that population, how could you use bootstrapping to assess whether or not your (hypothesized) guess might be plausible?\n",
    "By bootstrapping, we can have lots of samples generated by randomly sampling and then calculate the sample mean and the confidence interval for the true population mean. Therefore, we can check if the hypothesis mean is within the confidence interval, if it is, then it's plausible."
   ]
  },
  {
   "cell_type": "markdown",
   "id": "3854eb62",
   "metadata": {},
   "source": [
    "7. The \"Pre-lecture\" video (above) introduced hypothesis testing by saying that \"the confidence interval covers zero, so we cannot reject the hypothesis that the drug is [on average] not doing anything\". This conclusion could be referred to as \"failing to reject the null hypothesis\", where the term \"null\" refers to the concept of \"no effect [on average]\". Why does a confidence interval overlapping zero \"fail to reject the null hypothesis\" when the observed sample mean statistic itself is not zero? Alternatively, what would lead to the opposite conclusion in this context; namely, instead choosing \"to reject the null hypothesis\"? Explain the answers to these questions concisely in your own words."
   ]
  },
  {
   "cell_type": "markdown",
   "id": "7fd12285",
   "metadata": {},
   "source": [
    "The null hypothesis can be seen as the true population parameters, and with a confidence interval including zero, it means that zero is a plausible value for the population parameter based on the sample data. So that we cann't reject null hypothesis becasue 0 the true mean can be zero according to the confidence interval. In addition, when the observed sample mean is not zero, the sample may be too small or too noisy, which makes a wider confidence interval that includes zero. "
   ]
  },
  {
   "cell_type": "markdown",
   "id": "c689cffe",
   "metadata": {},
   "source": [
    "8. Vaccine Data Analysis Assignment"
   ]
  },
  {
   "cell_type": "markdown",
   "id": "8e8f1640",
   "metadata": {},
   "source": [
    "Analysis of Health Score Improvements Using Bootstrapping:\n",
    "\n",
    "The objective of this analysis is to check whether there is a significant increase in patients’ health scores between their initial assessment and final assessment. \n",
    "\n",
    "Hence, the H0 is there's no difference between the patient's health score, while H1 is there's an increase in patient's health score.\n",
    "\n",
    "Now, I need to bootstrapp patient's health score(randomly selected with replacement): "
   ]
  },
  {
   "cell_type": "code",
   "execution_count": 3,
   "id": "7386c931",
   "metadata": {},
   "outputs": [
    {
     "name": "stdout",
     "output_type": "stream",
     "text": [
      "Sample mean of health score differences: 3.3\n",
      "Bootstrapped 95% confidence interval for the mean difference in health scores: [0.9, 5.6]\n",
      "The sample mean falls within the confidence interval.\n"
     ]
    },
    {
     "data": {
      "image/png": "[encoded data removed]",
      "text/plain": [
       "<Figure size 640x480 with 1 Axes>"
      ]
     },
     "metadata": {},
     "output_type": "display_data"
    }
   ],
   "source": [
    "import pandas as pd\n",
    "import numpy as np\n",
    "import matplotlib.pyplot as plt\n",
    "\n",
    "url = \"https://raw.githubusercontent.com/AlexZhang109/STA130/refs/heads/main/patient_health_scores.csv\"\n",
    "df = pd.read_csv(url)\n",
    "\n",
    "\n",
    "df.head()\n",
    "\n",
    "# Bootstrapping function\n",
    "def bootstrap_mean(data, n_bootstraps=10000):\n",
    "    boot_means = []\n",
    "    n = len(data)\n",
    "    for _ in range(n_bootstraps):\n",
    "        sample = np.random.choice(data, size=n, replace=True)\n",
    "        boot_means.append(np.mean(sample))\n",
    "    return boot_means\n",
    "\n",
    "# Calculate the differences between FinalHealthScore and InitialHealthScore\n",
    "df['HealthScoreDifference'] = df['FinalHealthScore'] - df['InitialHealthScore']\n",
    "\n",
    "# Calculate the sample mean of the health score differences\n",
    "sample_mean = df['HealthScoreDifference'].mean()\n",
    "print(f\"Sample mean of health score differences: {sample_mean}\")\n",
    "\n",
    "# Perform bootstrapping on the HealthScoreDifference column\n",
    "boot_means = bootstrap_mean(df['HealthScoreDifference'], n_bootstraps=10000)\n",
    "\n",
    "# Calculate confidence intervals (95%)\n",
    "lower_bound = np.percentile(boot_means, 2.5)\n",
    "upper_bound = np.percentile(boot_means, 97.5)\n",
    "\n",
    "# Output the results\n",
    "print(f\"Bootstrapped 95% confidence interval for the mean difference in health scores: [{lower_bound}, {upper_bound}]\")\n",
    "\n",
    "# Check if the sample mean falls within the confidence interval\n",
    "if lower_bound <= sample_mean <= upper_bound:\n",
    "    print(\"The sample mean falls within the confidence interval.\")\n",
    "else:\n",
    "    print(\"The sample mean does not fall within the confidence interval.\")\n",
    "\n",
    "# Plot the distribution of bootstrapped means\n",
    "plt.hist(boot_means, bins=30, edgecolor='k', alpha=0.7)\n",
    "plt.axvline(lower_bound, color='r', linestyle='--', label='2.5% Quantile')\n",
    "plt.axvline(upper_bound, color='r', linestyle='--', label='97.5% Quantile')\n",
    "plt.axvline(sample_mean, color='g', linestyle='-', label='Sample Mean')\n",
    "plt.title('Bootstrapped Distribution of Health Score Differences')\n",
    "plt.xlabel('Mean Health Score Difference')\n",
    "plt.ylabel('Frequency')\n",
    "plt.legend()\n",
    "plt.show()"
   ]
  },
  {
   "cell_type": "markdown",
   "id": "cff81915",
   "metadata": {},
   "source": [
    "By bootstrapping the data 10,000 times, I calculated the 2.5% and 97.5% quantile and get a confidence interval between 0.9 and 5.6. Therefore, becasue interval doesnot contain 0, we reject h0, and this indicates that there's a increase in patient's health score. But if my h0 is there's a significant increase in patient's health score(Ex: Increase more than 2), then this confidence interval would be not sufficient to reject h0, we can't say there's a significent increase in the score. "
   ]
  },
  {
   "cell_type": "code",
   "execution_count": 5,
   "id": "ab374c98",
   "metadata": {},
   "outputs": [
    {
     "name": "stdout",
     "output_type": "stream",
     "text": [
      "3.3\n"
     ]
    }
   ],
   "source": [
    "df['HealthScoreDifference'] = df['FinalHealthScore'] - df['InitialHealthScore']\n",
    "mean_difference = df['HealthScoreDifference'].mean()\n",
    "print(mean_difference)"
   ]
  },
  {
   "cell_type": "markdown",
   "id": "dd5c48c9",
   "metadata": {},
   "source": [
    "If we calculate the true mean(3.3), we can see that the sample mean is exactly the population mean, which it means the estimate of mean is very accurate. However, becasue the population here is too small(less than 30) and I bootstrapped it 10000 times(Basically each sample is repeated a lot of times), this hypothesis test may also be seen as not trustworthy."
   ]
  },
  {
   "cell_type": "markdown",
   "id": "94d993dd",
   "metadata": {},
   "source": [
    "Chat history for Question 8: In this session, we discussed bootstrapping in statistics and its application to analyze health score differences between patients. We outlined the process of formulating null and alternative hypotheses, where h0\tstates there is no difference in health scores, and Ha suggests an increase in scores. We explored how to use bootstrapping to generate confidence intervals and how to interpret them in relation to the sample mean. Specifically, we established that if the confidence interval includes 0, we fail to reject H0 if it does not, we reject h0. While the sample mean provides a point estimate of the effect, the confidence interval is crucial for determining statistical significance. Both the sample mean and confidence interval should be reported for clarity in the analysis.\n",
    "Link: https://chatgpt.com/share/66fde580-5254-8004-a4c2-32827f10038d"
   ]
  },
  {
   "cell_type": "code",
   "execution_count": null,
   "id": "40b18db4",
   "metadata": {},
   "outputs": [],
   "source": []
  }
 ],
 "metadata": {
  "kernelspec": {
   "display_name": "Python 3 (ipykernel)",
   "language": "python",
   "name": "python3"
  },
  "language_info": {
   "codemirror_mode": {
    "name": "ipython",
    "version": 3
   },
   "file_extension": ".py",
   "mimetype": "text/x-python",
   "name": "python",
   "nbconvert_exporter": "python",
   "pygments_lexer": "ipython3",
   "version": "3.11.6"
  }
 },
 "nbformat": 4,
 "nbformat_minor": 5
}
